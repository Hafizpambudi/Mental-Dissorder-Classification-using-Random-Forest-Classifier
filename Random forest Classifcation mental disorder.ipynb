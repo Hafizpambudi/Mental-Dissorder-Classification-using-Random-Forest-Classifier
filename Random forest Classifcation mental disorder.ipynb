{
 "cells": [
  {
   "cell_type": "markdown",
   "id": "362d5970",
   "metadata": {},
   "source": [
    "### Data Preparation "
   ]
  },
  {
   "cell_type": "code",
   "execution_count": 1,
   "id": "2e93d30b",
   "metadata": {},
   "outputs": [],
   "source": [
    "import pandas as pd \n",
    "from sklearn.model_selection import train_test_split "
   ]
  },
  {
   "cell_type": "code",
   "execution_count": 2,
   "id": "72c09209",
   "metadata": {},
   "outputs": [
    {
     "data": {
      "text/html": [
       "<div>\n",
       "<style scoped>\n",
       "    .dataframe tbody tr th:only-of-type {\n",
       "        vertical-align: middle;\n",
       "    }\n",
       "\n",
       "    .dataframe tbody tr th {\n",
       "        vertical-align: top;\n",
       "    }\n",
       "\n",
       "    .dataframe thead th {\n",
       "        text-align: right;\n",
       "    }\n",
       "</style>\n",
       "<table border=\"1\" class=\"dataframe\">\n",
       "  <thead>\n",
       "    <tr style=\"text-align: right;\">\n",
       "      <th></th>\n",
       "      <th>Sadness</th>\n",
       "      <th>Euphoric</th>\n",
       "      <th>Exhausted</th>\n",
       "      <th>Sleep_dissorder</th>\n",
       "      <th>Mood_Swing</th>\n",
       "      <th>Suicidal_thoughts</th>\n",
       "      <th>Anorxia</th>\n",
       "      <th>Authority_Respect</th>\n",
       "      <th>Aggressive_Response</th>\n",
       "      <th>Ignore_MoveOn</th>\n",
       "      <th>Nervous_Breakdown</th>\n",
       "      <th>Admit_Mistakes</th>\n",
       "      <th>Overthinking</th>\n",
       "      <th>Sexual_Activity</th>\n",
       "      <th>Concentration</th>\n",
       "      <th>Optimisim</th>\n",
       "      <th>Klasifikasi</th>\n",
       "    </tr>\n",
       "  </thead>\n",
       "  <tbody>\n",
       "    <tr>\n",
       "      <th>0</th>\n",
       "      <td>Usually</td>\n",
       "      <td>Seldom</td>\n",
       "      <td>Sometimes</td>\n",
       "      <td>Sometimes</td>\n",
       "      <td>YES</td>\n",
       "      <td>YES</td>\n",
       "      <td>NO</td>\n",
       "      <td>NO</td>\n",
       "      <td>NO</td>\n",
       "      <td>NO</td>\n",
       "      <td>YES</td>\n",
       "      <td>YES</td>\n",
       "      <td>YES</td>\n",
       "      <td>3 From 10</td>\n",
       "      <td>3 From 10</td>\n",
       "      <td>4 From 10</td>\n",
       "      <td>Bipolar Type-2</td>\n",
       "    </tr>\n",
       "    <tr>\n",
       "      <th>1</th>\n",
       "      <td>Usually</td>\n",
       "      <td>Seldom</td>\n",
       "      <td>Usually</td>\n",
       "      <td>Sometimes</td>\n",
       "      <td>NO</td>\n",
       "      <td>YES</td>\n",
       "      <td>NO</td>\n",
       "      <td>NO</td>\n",
       "      <td>NO</td>\n",
       "      <td>NO</td>\n",
       "      <td>NO</td>\n",
       "      <td>NO</td>\n",
       "      <td>NO</td>\n",
       "      <td>4 From 10</td>\n",
       "      <td>2 From 10</td>\n",
       "      <td>5 From 10</td>\n",
       "      <td>Depression</td>\n",
       "    </tr>\n",
       "    <tr>\n",
       "      <th>2</th>\n",
       "      <td>Sometimes</td>\n",
       "      <td>Most-Often</td>\n",
       "      <td>Sometimes</td>\n",
       "      <td>Sometimes</td>\n",
       "      <td>YES</td>\n",
       "      <td>NO</td>\n",
       "      <td>NO</td>\n",
       "      <td>NO</td>\n",
       "      <td>YES</td>\n",
       "      <td>NO</td>\n",
       "      <td>YES</td>\n",
       "      <td>YES</td>\n",
       "      <td>NO</td>\n",
       "      <td>6 From 10</td>\n",
       "      <td>5 From 10</td>\n",
       "      <td>7 From 10</td>\n",
       "      <td>Bipolar Type-1</td>\n",
       "    </tr>\n",
       "    <tr>\n",
       "      <th>3</th>\n",
       "      <td>Usually</td>\n",
       "      <td>Seldom</td>\n",
       "      <td>Usually</td>\n",
       "      <td>Most-Often</td>\n",
       "      <td>YES</td>\n",
       "      <td>YES</td>\n",
       "      <td>YES</td>\n",
       "      <td>NO</td>\n",
       "      <td>NO</td>\n",
       "      <td>NO</td>\n",
       "      <td>NO</td>\n",
       "      <td>NO</td>\n",
       "      <td>NO</td>\n",
       "      <td>3 From 10</td>\n",
       "      <td>2 From 10</td>\n",
       "      <td>2 From 10</td>\n",
       "      <td>Bipolar Type-2</td>\n",
       "    </tr>\n",
       "    <tr>\n",
       "      <th>4</th>\n",
       "      <td>Usually</td>\n",
       "      <td>Usually</td>\n",
       "      <td>Sometimes</td>\n",
       "      <td>Sometimes</td>\n",
       "      <td>NO</td>\n",
       "      <td>NO</td>\n",
       "      <td>NO</td>\n",
       "      <td>NO</td>\n",
       "      <td>NO</td>\n",
       "      <td>NO</td>\n",
       "      <td>YES</td>\n",
       "      <td>YES</td>\n",
       "      <td>YES</td>\n",
       "      <td>5 From 10</td>\n",
       "      <td>5 From 10</td>\n",
       "      <td>6 From 10</td>\n",
       "      <td>Normal</td>\n",
       "    </tr>\n",
       "  </tbody>\n",
       "</table>\n",
       "</div>"
      ],
      "text/plain": [
       "     Sadness    Euphoric  Exhausted Sleep_dissorder Mood_Swing  \\\n",
       "0    Usually      Seldom  Sometimes       Sometimes        YES   \n",
       "1    Usually      Seldom    Usually       Sometimes         NO   \n",
       "2  Sometimes  Most-Often  Sometimes       Sometimes        YES   \n",
       "3    Usually      Seldom    Usually      Most-Often        YES   \n",
       "4    Usually     Usually  Sometimes       Sometimes         NO   \n",
       "\n",
       "  Suicidal_thoughts Anorxia Authority_Respect Aggressive_Response  \\\n",
       "0              YES       NO                NO                  NO   \n",
       "1               YES      NO                NO                  NO   \n",
       "2                NO      NO                NO                 YES   \n",
       "3               YES     YES                NO                  NO   \n",
       "4                NO      NO                NO                  NO   \n",
       "\n",
       "  Ignore_MoveOn Nervous_Breakdown Admit_Mistakes Overthinking Sexual_Activity  \\\n",
       "0            NO               YES            YES          YES       3 From 10   \n",
       "1            NO                NO             NO           NO       4 From 10   \n",
       "2            NO               YES            YES           NO       6 From 10   \n",
       "3            NO                NO             NO           NO       3 From 10   \n",
       "4            NO               YES            YES          YES       5 From 10   \n",
       "\n",
       "  Concentration  Optimisim     Klasifikasi  \n",
       "0     3 From 10  4 From 10  Bipolar Type-2  \n",
       "1     2 From 10  5 From 10      Depression  \n",
       "2     5 From 10  7 From 10  Bipolar Type-1  \n",
       "3     2 From 10  2 From 10  Bipolar Type-2  \n",
       "4     5 From 10  6 From 10          Normal  "
      ]
     },
     "execution_count": 2,
     "metadata": {},
     "output_type": "execute_result"
    }
   ],
   "source": [
    "df = pd.read_csv(\"data/mental-disorder.csv\")\n",
    "df.drop (columns= [\"Patient Number\",\"Try-Explanation\"], inplace=True)\n",
    "df.rename(columns={'Sleep dissorder' : 'Sleep_dissorder'}, inplace=True)\n",
    "df.rename(columns={'Mood Swing' : 'Mood_Swing'}, inplace=True)\n",
    "df.rename(columns={'Suicidal thoughts' : 'Suicidal_thoughts'}, inplace=True)\n",
    "df.rename(columns={'Authority Respect' : 'Authority_Respect'}, inplace=True)\n",
    "df.rename(columns={'Aggressive Response' : 'Aggressive_Response'}, inplace=True)\n",
    "df.rename(columns={'Ignore & Move-On' : 'Ignore_MoveOn'}, inplace=True)\n",
    "df.rename(columns={'Nervous Break-down' : 'Nervous_Breakdown'}, inplace=True)\n",
    "df.rename(columns={'Admit Mistakes' : 'Admit_Mistakes'}, inplace=True)\n",
    "df.rename(columns={'Sexual Activity' : 'Sexual_Activity'}, inplace=True)\n",
    "df.rename(columns={'Expert Diagnose' : 'Klasifikasi'}, inplace=True)\n",
    "\n",
    "df.head()"
   ]
  },
  {
   "cell_type": "code",
   "execution_count": 3,
   "id": "d7e89a96",
   "metadata": {},
   "outputs": [
    {
     "data": {
      "text/plain": [
       "((96, 16), (24, 16), (96,), (24,))"
      ]
     },
     "execution_count": 3,
     "metadata": {},
     "output_type": "execute_result"
    }
   ],
   "source": [
    "X = df.drop(columns =\"Klasifikasi\")\n",
    "y = df.Klasifikasi\n",
    "\n",
    "X_train, X_test, y_train, y_test = train_test_split(X, y, test_size=0.2, stratify=y, random_state=0)\n",
    "X_train.shape, X_test.shape , y_train.shape , y_test.shape"
   ]
  },
  {
   "cell_type": "markdown",
   "id": "7600e3c9",
   "metadata": {},
   "source": [
    "### PREPROCESSOR "
   ]
  },
  {
   "cell_type": "code",
   "execution_count": 4,
   "id": "6ba9749b",
   "metadata": {},
   "outputs": [],
   "source": [
    "from sklearn.pipeline import Pipeline\n",
    "from sklearn.impute import SimpleImputer\n",
    "from sklearn.preprocessing import MinMaxScaler, OneHotEncoder, StandardScaler\n",
    "from sklearn.compose import ColumnTransformer"
   ]
  },
  {
   "cell_type": "code",
   "execution_count": 5,
   "id": "0b4b2ec7",
   "metadata": {},
   "outputs": [],
   "source": [
    "categorical_pipeline = Pipeline([\n",
    "    (\"imputer\", SimpleImputer(strategy=\"most_frequent\")),\n",
    "    (\"encode\", OneHotEncoder(handle_unknown=\"ignore\"))\n",
    "])"
   ]
  },
  {
   "cell_type": "code",
   "execution_count": 6,
   "id": "c5be3869",
   "metadata": {},
   "outputs": [],
   "source": [
    "preprocessor = ColumnTransformer ([\n",
    "\n",
    "    (\"categoric\", categorical_pipeline, [\"Sadness\",\"Euphoric\",\"Exhausted\",\"Sleep_dissorder\",\"Mood_Swing\",\"Suicidal_thoughts\",\n",
    "                                         \"Anorxia\",\"Authority_Respect\",\"Aggressive_Response\", \n",
    "                                         \"Ignore_MoveOn\",\"Nervous_Breakdown\",\"Admit_Mistakes\",\"Overthinking\",\n",
    "                                         \"Sexual_Activity\",\"Concentration\",\"Optimisim\"])\n",
    "])"
   ]
  },
  {
   "cell_type": "markdown",
   "id": "26f5ea5f",
   "metadata": {},
   "source": [
    "### PIPELINE RANDOM FOREST"
   ]
  },
  {
   "cell_type": "code",
   "execution_count": 7,
   "id": "286158e3",
   "metadata": {},
   "outputs": [],
   "source": [
    "from sklearn.ensemble import RandomForestClassifier"
   ]
  },
  {
   "cell_type": "code",
   "execution_count": 22,
   "id": "29dbd65e",
   "metadata": {},
   "outputs": [],
   "source": [
    "pipeline1 = Pipeline ([\n",
    "    (\"prep\", preprocessor),\n",
    "    (\"algoforest\", RandomForestClassifier(n_estimators=56))\n",
    "])"
   ]
  },
  {
   "cell_type": "code",
   "execution_count": 23,
   "id": "d95a6659",
   "metadata": {
    "scrolled": false
   },
   "outputs": [
    {
     "data": {
      "text/plain": [
       "Pipeline(steps=[('prep',\n",
       "                 ColumnTransformer(transformers=[('categoric',\n",
       "                                                  Pipeline(steps=[('imputer',\n",
       "                                                                   SimpleImputer(strategy='most_frequent')),\n",
       "                                                                  ('encode',\n",
       "                                                                   OneHotEncoder(handle_unknown='ignore'))]),\n",
       "                                                  ['Sadness', 'Euphoric',\n",
       "                                                   'Exhausted',\n",
       "                                                   'Sleep_dissorder',\n",
       "                                                   'Mood_Swing',\n",
       "                                                   'Suicidal_thoughts',\n",
       "                                                   'Anorxia',\n",
       "                                                   'Authority_Respect',\n",
       "                                                   'Aggressive_Response',\n",
       "                                                   'Ignore_MoveOn',\n",
       "                                                   'Nervous_Breakdown',\n",
       "                                                   'Admit_Mistakes',\n",
       "                                                   'Overthinking',\n",
       "                                                   'Sexual_Activity',\n",
       "                                                   'Concentration',\n",
       "                                                   'Optimisim'])])),\n",
       "                ('algoforest', RandomForestClassifier(n_estimators=56))])"
      ]
     },
     "execution_count": 23,
     "metadata": {},
     "output_type": "execute_result"
    }
   ],
   "source": [
    "pipeline1.fit(X_train,y_train)"
   ]
  },
  {
   "cell_type": "code",
   "execution_count": 24,
   "id": "dc1b2161",
   "metadata": {},
   "outputs": [
    {
     "data": {
      "text/plain": [
       "0.875"
      ]
     },
     "execution_count": 24,
     "metadata": {},
     "output_type": "execute_result"
    }
   ],
   "source": [
    "pipeline1.score(X_test,y_test)"
   ]
  },
  {
   "cell_type": "markdown",
   "id": "0c2f7172",
   "metadata": {},
   "source": [
    "### random forest X grid search cv "
   ]
  },
  {
   "cell_type": "code",
   "execution_count": 11,
   "id": "37b03965",
   "metadata": {},
   "outputs": [],
   "source": [
    "from sklearn.model_selection import GridSearchCV"
   ]
  },
  {
   "cell_type": "code",
   "execution_count": 25,
   "id": "de03c4e8",
   "metadata": {},
   "outputs": [
    {
     "name": "stdout",
     "output_type": "stream",
     "text": [
      "Fitting 3 folds for each of 100 candidates, totalling 300 fits\n"
     ]
    },
    {
     "data": {
      "text/plain": [
       "GridSearchCV(cv=3, error_score='raise',\n",
       "             estimator=Pipeline(steps=[('prep',\n",
       "                                        ColumnTransformer(transformers=[('categoric',\n",
       "                                                                         Pipeline(steps=[('imputer',\n",
       "                                                                                          SimpleImputer(strategy='most_frequent')),\n",
       "                                                                                         ('encode',\n",
       "                                                                                          OneHotEncoder(handle_unknown='ignore'))]),\n",
       "                                                                         ['Sadness',\n",
       "                                                                          'Euphoric',\n",
       "                                                                          'Exhausted',\n",
       "                                                                          'Sleep_dissorder',\n",
       "                                                                          'Mood_Swing',\n",
       "                                                                          'Suicidal_thoughts',\n",
       "                                                                          'Anorxia',\n",
       "                                                                          'Authority_Respect',\n",
       "                                                                          'Aggressive_Response',\n",
       "                                                                          'Ignore_MoveOn',\n",
       "                                                                          'Nervous_Breakdown',\n",
       "                                                                          'Admit_Mistakes',\n",
       "                                                                          'Overthinking',\n",
       "                                                                          'Sexual_Activity',\n",
       "                                                                          'Concentration',\n",
       "                                                                          'Optimisim'])])),\n",
       "                                       ('algoforest',\n",
       "                                        RandomForestClassifier(n_estimators=56))]),\n",
       "             n_jobs=-1, param_grid={'algoforest__n_estimators': range(1, 101)},\n",
       "             scoring='accuracy', verbose=1)"
      ]
     },
     "execution_count": 25,
     "metadata": {},
     "output_type": "execute_result"
    }
   ],
   "source": [
    "parameter1 = {\n",
    "    \"algoforest__n_estimators\" : range(1,101)\n",
    "    \n",
    "}\n",
    "modelrf = GridSearchCV(pipeline1, parameter1, cv=3, n_jobs=-1, verbose=1, error_score='raise', scoring='accuracy')\n",
    "modelrf.fit(X_train,y_train)"
   ]
  },
  {
   "cell_type": "code",
   "execution_count": 26,
   "id": "35b57d2b",
   "metadata": {},
   "outputs": [
    {
     "data": {
      "text/html": [
       "<div>\n",
       "<style scoped>\n",
       "    .dataframe tbody tr th:only-of-type {\n",
       "        vertical-align: middle;\n",
       "    }\n",
       "\n",
       "    .dataframe tbody tr th {\n",
       "        vertical-align: top;\n",
       "    }\n",
       "\n",
       "    .dataframe thead th {\n",
       "        text-align: right;\n",
       "    }\n",
       "</style>\n",
       "<table border=\"1\" class=\"dataframe\">\n",
       "  <thead>\n",
       "    <tr style=\"text-align: right;\">\n",
       "      <th></th>\n",
       "      <th>mean_fit_time</th>\n",
       "      <th>std_fit_time</th>\n",
       "      <th>mean_score_time</th>\n",
       "      <th>std_score_time</th>\n",
       "      <th>param_algoforest__n_estimators</th>\n",
       "      <th>params</th>\n",
       "      <th>split0_test_score</th>\n",
       "      <th>split1_test_score</th>\n",
       "      <th>split2_test_score</th>\n",
       "      <th>mean_test_score</th>\n",
       "      <th>std_test_score</th>\n",
       "      <th>rank_test_score</th>\n",
       "    </tr>\n",
       "  </thead>\n",
       "  <tbody>\n",
       "    <tr>\n",
       "      <th>94</th>\n",
       "      <td>0.237020</td>\n",
       "      <td>0.002944</td>\n",
       "      <td>0.017668</td>\n",
       "      <td>4.706415e-04</td>\n",
       "      <td>95</td>\n",
       "      <td>{'algoforest__n_estimators': 95}</td>\n",
       "      <td>0.84375</td>\n",
       "      <td>0.87500</td>\n",
       "      <td>0.93750</td>\n",
       "      <td>0.885417</td>\n",
       "      <td>0.038976</td>\n",
       "      <td>1</td>\n",
       "    </tr>\n",
       "    <tr>\n",
       "      <th>33</th>\n",
       "      <td>0.096674</td>\n",
       "      <td>0.003091</td>\n",
       "      <td>0.016670</td>\n",
       "      <td>7.320307e-03</td>\n",
       "      <td>34</td>\n",
       "      <td>{'algoforest__n_estimators': 34}</td>\n",
       "      <td>0.87500</td>\n",
       "      <td>0.84375</td>\n",
       "      <td>0.90625</td>\n",
       "      <td>0.875000</td>\n",
       "      <td>0.025516</td>\n",
       "      <td>2</td>\n",
       "    </tr>\n",
       "    <tr>\n",
       "      <th>42</th>\n",
       "      <td>0.122677</td>\n",
       "      <td>0.004992</td>\n",
       "      <td>0.012667</td>\n",
       "      <td>4.722735e-04</td>\n",
       "      <td>43</td>\n",
       "      <td>{'algoforest__n_estimators': 43}</td>\n",
       "      <td>0.87500</td>\n",
       "      <td>0.81250</td>\n",
       "      <td>0.93750</td>\n",
       "      <td>0.875000</td>\n",
       "      <td>0.051031</td>\n",
       "      <td>2</td>\n",
       "    </tr>\n",
       "    <tr>\n",
       "      <th>85</th>\n",
       "      <td>0.212016</td>\n",
       "      <td>0.005657</td>\n",
       "      <td>0.020336</td>\n",
       "      <td>5.437068e-03</td>\n",
       "      <td>86</td>\n",
       "      <td>{'algoforest__n_estimators': 86}</td>\n",
       "      <td>0.87500</td>\n",
       "      <td>0.81250</td>\n",
       "      <td>0.93750</td>\n",
       "      <td>0.875000</td>\n",
       "      <td>0.051031</td>\n",
       "      <td>2</td>\n",
       "    </tr>\n",
       "    <tr>\n",
       "      <th>67</th>\n",
       "      <td>0.179014</td>\n",
       "      <td>0.000814</td>\n",
       "      <td>0.015668</td>\n",
       "      <td>4.701344e-04</td>\n",
       "      <td>68</td>\n",
       "      <td>{'algoforest__n_estimators': 68}</td>\n",
       "      <td>0.87500</td>\n",
       "      <td>0.81250</td>\n",
       "      <td>0.90625</td>\n",
       "      <td>0.864583</td>\n",
       "      <td>0.038976</td>\n",
       "      <td>5</td>\n",
       "    </tr>\n",
       "    <tr>\n",
       "      <th>...</th>\n",
       "      <td>...</td>\n",
       "      <td>...</td>\n",
       "      <td>...</td>\n",
       "      <td>...</td>\n",
       "      <td>...</td>\n",
       "      <td>...</td>\n",
       "      <td>...</td>\n",
       "      <td>...</td>\n",
       "      <td>...</td>\n",
       "      <td>...</td>\n",
       "      <td>...</td>\n",
       "      <td>...</td>\n",
       "    </tr>\n",
       "    <tr>\n",
       "      <th>3</th>\n",
       "      <td>0.032001</td>\n",
       "      <td>0.001413</td>\n",
       "      <td>0.010001</td>\n",
       "      <td>2.158730e-03</td>\n",
       "      <td>4</td>\n",
       "      <td>{'algoforest__n_estimators': 4}</td>\n",
       "      <td>0.71875</td>\n",
       "      <td>0.62500</td>\n",
       "      <td>0.87500</td>\n",
       "      <td>0.739583</td>\n",
       "      <td>0.103120</td>\n",
       "      <td>95</td>\n",
       "    </tr>\n",
       "    <tr>\n",
       "      <th>9</th>\n",
       "      <td>0.041337</td>\n",
       "      <td>0.000472</td>\n",
       "      <td>0.012000</td>\n",
       "      <td>7.370010e-07</td>\n",
       "      <td>10</td>\n",
       "      <td>{'algoforest__n_estimators': 10}</td>\n",
       "      <td>0.65625</td>\n",
       "      <td>0.75000</td>\n",
       "      <td>0.78125</td>\n",
       "      <td>0.729167</td>\n",
       "      <td>0.053115</td>\n",
       "      <td>97</td>\n",
       "    </tr>\n",
       "    <tr>\n",
       "      <th>2</th>\n",
       "      <td>0.037009</td>\n",
       "      <td>0.010819</td>\n",
       "      <td>0.016993</td>\n",
       "      <td>6.474254e-03</td>\n",
       "      <td>3</td>\n",
       "      <td>{'algoforest__n_estimators': 3}</td>\n",
       "      <td>0.71875</td>\n",
       "      <td>0.46875</td>\n",
       "      <td>0.87500</td>\n",
       "      <td>0.687500</td>\n",
       "      <td>0.167316</td>\n",
       "      <td>98</td>\n",
       "    </tr>\n",
       "    <tr>\n",
       "      <th>1</th>\n",
       "      <td>0.024002</td>\n",
       "      <td>0.000818</td>\n",
       "      <td>0.009004</td>\n",
       "      <td>8.215979e-04</td>\n",
       "      <td>2</td>\n",
       "      <td>{'algoforest__n_estimators': 2}</td>\n",
       "      <td>0.75000</td>\n",
       "      <td>0.62500</td>\n",
       "      <td>0.56250</td>\n",
       "      <td>0.645833</td>\n",
       "      <td>0.077951</td>\n",
       "      <td>99</td>\n",
       "    </tr>\n",
       "    <tr>\n",
       "      <th>0</th>\n",
       "      <td>0.022000</td>\n",
       "      <td>0.000001</td>\n",
       "      <td>0.010008</td>\n",
       "      <td>8.244299e-04</td>\n",
       "      <td>1</td>\n",
       "      <td>{'algoforest__n_estimators': 1}</td>\n",
       "      <td>0.34375</td>\n",
       "      <td>0.43750</td>\n",
       "      <td>0.56250</td>\n",
       "      <td>0.447917</td>\n",
       "      <td>0.089608</td>\n",
       "      <td>100</td>\n",
       "    </tr>\n",
       "  </tbody>\n",
       "</table>\n",
       "<p>100 rows × 12 columns</p>\n",
       "</div>"
      ],
      "text/plain": [
       "    mean_fit_time  std_fit_time  mean_score_time  std_score_time  \\\n",
       "94       0.237020      0.002944         0.017668    4.706415e-04   \n",
       "33       0.096674      0.003091         0.016670    7.320307e-03   \n",
       "42       0.122677      0.004992         0.012667    4.722735e-04   \n",
       "85       0.212016      0.005657         0.020336    5.437068e-03   \n",
       "67       0.179014      0.000814         0.015668    4.701344e-04   \n",
       "..            ...           ...              ...             ...   \n",
       "3        0.032001      0.001413         0.010001    2.158730e-03   \n",
       "9        0.041337      0.000472         0.012000    7.370010e-07   \n",
       "2        0.037009      0.010819         0.016993    6.474254e-03   \n",
       "1        0.024002      0.000818         0.009004    8.215979e-04   \n",
       "0        0.022000      0.000001         0.010008    8.244299e-04   \n",
       "\n",
       "   param_algoforest__n_estimators                            params  \\\n",
       "94                             95  {'algoforest__n_estimators': 95}   \n",
       "33                             34  {'algoforest__n_estimators': 34}   \n",
       "42                             43  {'algoforest__n_estimators': 43}   \n",
       "85                             86  {'algoforest__n_estimators': 86}   \n",
       "67                             68  {'algoforest__n_estimators': 68}   \n",
       "..                            ...                               ...   \n",
       "3                               4   {'algoforest__n_estimators': 4}   \n",
       "9                              10  {'algoforest__n_estimators': 10}   \n",
       "2                               3   {'algoforest__n_estimators': 3}   \n",
       "1                               2   {'algoforest__n_estimators': 2}   \n",
       "0                               1   {'algoforest__n_estimators': 1}   \n",
       "\n",
       "    split0_test_score  split1_test_score  split2_test_score  mean_test_score  \\\n",
       "94            0.84375            0.87500            0.93750         0.885417   \n",
       "33            0.87500            0.84375            0.90625         0.875000   \n",
       "42            0.87500            0.81250            0.93750         0.875000   \n",
       "85            0.87500            0.81250            0.93750         0.875000   \n",
       "67            0.87500            0.81250            0.90625         0.864583   \n",
       "..                ...                ...                ...              ...   \n",
       "3             0.71875            0.62500            0.87500         0.739583   \n",
       "9             0.65625            0.75000            0.78125         0.729167   \n",
       "2             0.71875            0.46875            0.87500         0.687500   \n",
       "1             0.75000            0.62500            0.56250         0.645833   \n",
       "0             0.34375            0.43750            0.56250         0.447917   \n",
       "\n",
       "    std_test_score  rank_test_score  \n",
       "94        0.038976                1  \n",
       "33        0.025516                2  \n",
       "42        0.051031                2  \n",
       "85        0.051031                2  \n",
       "67        0.038976                5  \n",
       "..             ...              ...  \n",
       "3         0.103120               95  \n",
       "9         0.053115               97  \n",
       "2         0.167316               98  \n",
       "1         0.077951               99  \n",
       "0         0.089608              100  \n",
       "\n",
       "[100 rows x 12 columns]"
      ]
     },
     "execution_count": 26,
     "metadata": {},
     "output_type": "execute_result"
    }
   ],
   "source": [
    "pd.DataFrame(modelrf.cv_results_).sort_values(\"rank_test_score\")"
   ]
  },
  {
   "cell_type": "code",
   "execution_count": 14,
   "id": "c830a70c",
   "metadata": {},
   "outputs": [
    {
     "data": {
      "text/plain": [
       "{'algoforest__n_estimators': 56}"
      ]
     },
     "execution_count": 14,
     "metadata": {},
     "output_type": "execute_result"
    }
   ],
   "source": [
    "modelrf.best_params_"
   ]
  },
  {
   "cell_type": "code",
   "execution_count": 27,
   "id": "81d5730c",
   "metadata": {},
   "outputs": [
    {
     "data": {
      "text/plain": [
       "(1.0, 0.875)"
      ]
     },
     "execution_count": 27,
     "metadata": {},
     "output_type": "execute_result"
    }
   ],
   "source": [
    "modelrf.score(X_train,y_train), modelrf.score(X_test,y_test)"
   ]
  },
  {
   "cell_type": "markdown",
   "id": "9744ab90",
   "metadata": {},
   "source": [
    "### DATA PREDICT "
   ]
  },
  {
   "cell_type": "code",
   "execution_count": 28,
   "id": "37b3bc76",
   "metadata": {},
   "outputs": [
    {
     "data": {
      "text/html": [
       "<div>\n",
       "<style scoped>\n",
       "    .dataframe tbody tr th:only-of-type {\n",
       "        vertical-align: middle;\n",
       "    }\n",
       "\n",
       "    .dataframe tbody tr th {\n",
       "        vertical-align: top;\n",
       "    }\n",
       "\n",
       "    .dataframe thead th {\n",
       "        text-align: right;\n",
       "    }\n",
       "</style>\n",
       "<table border=\"1\" class=\"dataframe\">\n",
       "  <thead>\n",
       "    <tr style=\"text-align: right;\">\n",
       "      <th></th>\n",
       "      <th>Sadness</th>\n",
       "      <th>Euphoric</th>\n",
       "      <th>Exhausted</th>\n",
       "      <th>Sleep_dissorder</th>\n",
       "      <th>Mood_Swing</th>\n",
       "      <th>Suicidal_thoughts</th>\n",
       "      <th>Anorxia</th>\n",
       "      <th>Authority_Respect</th>\n",
       "      <th>Aggressive_Response</th>\n",
       "      <th>Ignore_MoveOn</th>\n",
       "      <th>Nervous_Breakdown</th>\n",
       "      <th>Admit_Mistakes</th>\n",
       "      <th>Overthinking</th>\n",
       "      <th>Sexual_Activity</th>\n",
       "      <th>Concentration</th>\n",
       "      <th>Optimisim</th>\n",
       "    </tr>\n",
       "  </thead>\n",
       "  <tbody>\n",
       "    <tr>\n",
       "      <th>Rudi</th>\n",
       "      <td>Most-Often</td>\n",
       "      <td>Seldom</td>\n",
       "      <td>Sometimes</td>\n",
       "      <td>Sometimes</td>\n",
       "      <td>YES</td>\n",
       "      <td>NO</td>\n",
       "      <td>YES</td>\n",
       "      <td>YES</td>\n",
       "      <td>NO</td>\n",
       "      <td>NO</td>\n",
       "      <td>YES</td>\n",
       "      <td>YES</td>\n",
       "      <td>YES</td>\n",
       "      <td>2 From 10</td>\n",
       "      <td>7 From 10</td>\n",
       "      <td>3 From 10</td>\n",
       "    </tr>\n",
       "    <tr>\n",
       "      <th>Budi</th>\n",
       "      <td>Sometimes</td>\n",
       "      <td>Sometimes</td>\n",
       "      <td>Sometimes</td>\n",
       "      <td>Sometimes</td>\n",
       "      <td>NO</td>\n",
       "      <td>NO</td>\n",
       "      <td>YES</td>\n",
       "      <td>YES</td>\n",
       "      <td>NO</td>\n",
       "      <td>NO</td>\n",
       "      <td>NO</td>\n",
       "      <td>NO</td>\n",
       "      <td>NO</td>\n",
       "      <td>9 From 10</td>\n",
       "      <td>9 From 10</td>\n",
       "      <td>9 From 10</td>\n",
       "    </tr>\n",
       "  </tbody>\n",
       "</table>\n",
       "</div>"
      ],
      "text/plain": [
       "         Sadness   Euphoric  Exhausted Sleep_dissorder Mood_Swing  \\\n",
       "Rudi  Most-Often     Seldom  Sometimes       Sometimes        YES   \n",
       "Budi   Sometimes  Sometimes  Sometimes       Sometimes         NO   \n",
       "\n",
       "     Suicidal_thoughts Anorxia Authority_Respect Aggressive_Response  \\\n",
       "Rudi                NO     YES               YES                  NO   \n",
       "Budi                NO     YES               YES                  NO   \n",
       "\n",
       "     Ignore_MoveOn Nervous_Breakdown Admit_Mistakes Overthinking  \\\n",
       "Rudi            NO               YES            YES          YES   \n",
       "Budi            NO                NO             NO           NO   \n",
       "\n",
       "     Sexual_Activity Concentration  Optimisim  \n",
       "Rudi       2 From 10     7 From 10  3 From 10  \n",
       "Budi       9 From 10     9 From 10  9 From 10  "
      ]
     },
     "execution_count": 28,
     "metadata": {},
     "output_type": "execute_result"
    }
   ],
   "source": [
    "datapred = (\n",
    "    [\"Most-Often\",\"Seldom\",\"Sometimes\",\"Sometimes\",\"YES\",\"NO\",\"YES\",\"YES\",\"NO\",\"NO\",\"YES\",\"YES\",\"YES\",\"2 From 10\",\"7 From 10\",\"3 From 10\"],\n",
    "     [\"Sometimes\",\"Sometimes\",\"Sometimes\",\"Sometimes\",\"NO\",\"NO\",\"YES\",\"YES\",\"NO\",\"NO\",\"NO\",\"NO\",\"NO\",\"9 From 10\",\"9 From 10\",\"9 From 10\"]\n",
    "    \n",
    ")\n",
    "\n",
    "X_pred = pd.DataFrame (datapred, index=[\"Rudi\",\"Budi\"], columns=X.columns)\n",
    "X_pred"
   ]
  },
  {
   "cell_type": "code",
   "execution_count": 29,
   "id": "04c1c80b",
   "metadata": {},
   "outputs": [
    {
     "data": {
      "text/plain": [
       "array(['Bipolar Type-2', 'Normal'], dtype=object)"
      ]
     },
     "execution_count": 29,
     "metadata": {},
     "output_type": "execute_result"
    }
   ],
   "source": [
    "modelrf.predict(X_pred)"
   ]
  },
  {
   "cell_type": "markdown",
   "id": "3ae792e7",
   "metadata": {},
   "source": [
    "### PICKEL MODEL"
   ]
  },
  {
   "cell_type": "code",
   "execution_count": 33,
   "id": "f555e093",
   "metadata": {},
   "outputs": [],
   "source": [
    "import pickle"
   ]
  },
  {
   "cell_type": "code",
   "execution_count": 34,
   "id": "541554b5",
   "metadata": {},
   "outputs": [],
   "source": [
    "pickle.dump (modelrf,open(\"data/modelml.pkl\",\"wb\"))"
   ]
  },
  {
   "cell_type": "code",
   "execution_count": null,
   "id": "8e37d082",
   "metadata": {},
   "outputs": [],
   "source": []
  }
 ],
 "metadata": {
  "kernelspec": {
   "display_name": "Python 3 (ipykernel)",
   "language": "python",
   "name": "python3"
  },
  "language_info": {
   "codemirror_mode": {
    "name": "ipython",
    "version": 3
   },
   "file_extension": ".py",
   "mimetype": "text/x-python",
   "name": "python",
   "nbconvert_exporter": "python",
   "pygments_lexer": "ipython3",
   "version": "3.9.12"
  },
  "varInspector": {
   "cols": {
    "lenName": 16,
    "lenType": 16,
    "lenVar": 40
   },
   "kernels_config": {
    "python": {
     "delete_cmd_postfix": "",
     "delete_cmd_prefix": "del ",
     "library": "var_list.py",
     "varRefreshCmd": "print(var_dic_list())"
    },
    "r": {
     "delete_cmd_postfix": ") ",
     "delete_cmd_prefix": "rm(",
     "library": "var_list.r",
     "varRefreshCmd": "cat(var_dic_list()) "
    }
   },
   "types_to_exclude": [
    "module",
    "function",
    "builtin_function_or_method",
    "instance",
    "_Feature"
   ],
   "window_display": false
  }
 },
 "nbformat": 4,
 "nbformat_minor": 5
}
